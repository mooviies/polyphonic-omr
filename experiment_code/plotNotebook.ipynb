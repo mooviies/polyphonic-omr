{
 "cells": [
  {
   "cell_type": "code",
   "execution_count": 3,
   "metadata": {},
   "outputs": [
    {
     "name": "stderr",
     "output_type": "stream",
     "text": [
      "c:\\Users\\pierr\\AppData\\Local\\Programs\\Python\\Python310\\lib\\site-packages\\tqdm\\auto.py:22: TqdmWarning: IProgress not found. Please update jupyter and ipywidgets. See https://ipywidgets.readthedocs.io/en/stable/user_install.html\n",
      "  from .autonotebook import tqdm as notebook_tqdm\n"
     ]
    }
   ],
   "source": [
    "import torch\n",
    "import argparse\n",
    "import os\n",
    "    \n",
    "import utils\n",
    "import model\n",
    "\n",
    "from torch.utils.data import DataLoader\n",
    "from data_multi import PolyphonicDataset \n",
    "\n",
    "import nltk"
   ]
  },
  {
   "cell_type": "markdown",
   "metadata": {},
   "source": [
    "# RNN Decoder"
   ]
  },
  {
   "cell_type": "code",
   "execution_count": 4,
   "metadata": {},
   "outputs": [],
   "source": [
    "#params = model.default_model_params()\n",
    "corpus=\"./Dataset/\"\n",
    "voc_p=\"./vocab/rnn_pitch.txt\"\n",
    "voc_r=\"./vocab/rnn_rhythm.txt\""
   ]
  },
  {
   "cell_type": "code",
   "execution_count": 24,
   "metadata": {},
   "outputs": [],
   "source": [
    "output_folder=\"./outputs/\"\n",
    "pred_rhythm_folder=output_folder+\"labels_length/\"\n",
    "pred_pitch_folder=output_folder+\"labels_note/\"\n",
    "\n",
    "gt_rhythm_folder=corpus+\"labels_length/\"\n",
    "gt_pitch_folder=corpus+\"labels_note/\"\n",
    "\n",
    "with open(corpus+\"test.txt\", 'r') as f:\n",
    "    test_files=[file + \".semantic\" for file in f.read().split()]\n",
    "    f.close()"
   ]
  },
  {
   "cell_type": "code",
   "execution_count": 6,
   "metadata": {},
   "outputs": [],
   "source": [
    "dict_file = open(voc_p,'r')\n",
    "dict_list = dict_file.read().splitlines()\n",
    "pitch_word2int = dict()\n",
    "i=0\n",
    "for word in dict_list:\n",
    "    pitch_word2int[word] = i\n",
    "    i+=1\n",
    "pitch_word2int['+']=i\n",
    "dict_file.close()"
   ]
  },
  {
   "cell_type": "code",
   "execution_count": 7,
   "metadata": {},
   "outputs": [],
   "source": [
    "dict_file = open(voc_r,'r')\n",
    "dict_list = dict_file.read().splitlines()\n",
    "rhythm_word2int = dict()\n",
    "i=0\n",
    "for word in dict_list:\n",
    "    rhythm_word2int[word] = i\n",
    "    i+=1\n",
    "rhythm_word2int['+']=i\n",
    "dict_file.close()"
   ]
  },
  {
   "cell_type": "code",
   "execution_count": null,
   "metadata": {},
   "outputs": [],
   "source": [
    "# Calculate SER of all test files\n",
    "\n",
    "for file_name in test_files:\n",
    "    print(file_name)\n",
    "    gt_rhythm_int=[]\n",
    "    pred_rhythm_int=[]\n",
    "    SER_rhythm_list=[]\n",
    "\n",
    "    gt_pitch_int=[]\n",
    "    pred_pitch_int=[]\n",
    "    SER_pitch_list=[]\n",
    "    with open(gt_rhythm_folder+file_name, 'r') as f:\n",
    "        for label in f.read().split(\" \"):\n",
    "            gt_rhythm_int.append(rhythm_word2int[label])\n",
    "        #gt_rhythm = [seq.split(\" \") for seq in f.read().split(\" + \")]\n",
    "        f.close()\n",
    "    with open(pred_rhythm_folder+file_name, 'r') as f:\n",
    "        for label in f.read().split(\" \"):\n",
    "            pred_rhythm_int.append(rhythm_word2int[label])        \n",
    "        #pred_rhythm = [seq.split(\" \") for seq in f.read().split(\" + \")]\n",
    "        f.close()\n",
    "\n",
    "    with open(gt_pitch_folder+file_name, 'r') as f:\n",
    "        for label in f.read().split(\" \"):\n",
    "            gt_pitch_int.append(pitch_word2int[label])\n",
    "        f.close()\n",
    "    with open(pred_pitch_folder+file_name, 'r') as f:\n",
    "        for label in f.read().split(\" \"):\n",
    "            pred_pitch_int.append(pitch_word2int[label])   \n",
    "        f.close()\n",
    "\n",
    "\n",
    "    SER_rhythm=nltk.edit_distance(pred_rhythm_int,gt_rhythm_int)/len(gt_rhythm_int)\n",
    "    SER_rhythm_list.append(SER_rhythm)\n",
    "\n",
    "    SER_pitch=nltk.edit_distance(pred_pitch_int,gt_pitch_int)/len(gt_pitch_int)\n",
    "    SER_pitch_list.append(SER_pitch)\n",
    "    "
   ]
  }
 ],
 "metadata": {
  "kernelspec": {
   "display_name": "Python 3",
   "language": "python",
   "name": "python3"
  },
  "language_info": {
   "codemirror_mode": {
    "name": "ipython",
    "version": 3
   },
   "file_extension": ".py",
   "mimetype": "text/x-python",
   "name": "python",
   "nbconvert_exporter": "python",
   "pygments_lexer": "ipython3",
   "version": "3.10.0"
  }
 },
 "nbformat": 4,
 "nbformat_minor": 2
}
